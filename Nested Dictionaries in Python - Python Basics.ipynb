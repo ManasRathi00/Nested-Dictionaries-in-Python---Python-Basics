{
 "cells": [
  {
   "cell_type": "code",
   "execution_count": 64,
   "metadata": {},
   "outputs": [
    {
     "data": {
      "text/plain": [
       "['Dog', 'Cat', 'Rat', 'Ant']"
      ]
     },
     "execution_count": 64,
     "metadata": {},
     "output_type": "execute_result"
    }
   ],
   "source": [
    "#Mutable lists\n",
    "curly = ['Dog','Cat','Rat']\n",
    "curly.append('Ant')\n",
    "curly #here, we are able to change the internal state of a list by adding another element 'ant' to it. This shows it's mutability"
   ]
  },
  {
   "cell_type": "code",
   "execution_count": 65,
   "metadata": {},
   "outputs": [
    {
     "ename": "AttributeError",
     "evalue": "'tuple' object has no attribute 'append'",
     "output_type": "error",
     "traceback": [
      "\u001b[0;31m---------------------------------------------------------------------------\u001b[0m",
      "\u001b[0;31mAttributeError\u001b[0m                            Traceback (most recent call last)",
      "\u001b[0;32m<ipython-input-65-03e0d77121cf>\u001b[0m in \u001b[0;36m<module>\u001b[0;34m\u001b[0m\n\u001b[1;32m      1\u001b[0m \u001b[0;31m#Immutable Objects\u001b[0m\u001b[0;34m\u001b[0m\u001b[0;34m\u001b[0m\u001b[0;34m\u001b[0m\u001b[0m\n\u001b[1;32m      2\u001b[0m \u001b[0mtotal\u001b[0m \u001b[0;34m=\u001b[0m \u001b[0;34m(\u001b[0m\u001b[0;34m'ok'\u001b[0m\u001b[0;34m,\u001b[0m\u001b[0;36m45\u001b[0m\u001b[0;34m,\u001b[0m\u001b[0;34m'yes'\u001b[0m\u001b[0;34m,\u001b[0m\u001b[0;34m'me'\u001b[0m\u001b[0;34m,\u001b[0m\u001b[0;34m'great'\u001b[0m\u001b[0;34m)\u001b[0m\u001b[0;34m\u001b[0m\u001b[0;34m\u001b[0m\u001b[0m\n\u001b[0;32m----> 3\u001b[0;31m \u001b[0mtotal\u001b[0m\u001b[0;34m.\u001b[0m\u001b[0mappend\u001b[0m\u001b[0;34m(\u001b[0m\u001b[0;34m'yes'\u001b[0m\u001b[0;34m)\u001b[0m\u001b[0;34m\u001b[0m\u001b[0;34m\u001b[0m\u001b[0m\n\u001b[0m\u001b[1;32m      4\u001b[0m \u001b[0mtotal\u001b[0m\u001b[0;34m\u001b[0m\u001b[0;34m\u001b[0m\u001b[0m\n",
      "\u001b[0;31mAttributeError\u001b[0m: 'tuple' object has no attribute 'append'"
     ]
    }
   ],
   "source": [
    "#Immutable Objects\n",
    "total = ('ok',45,'yes','me','great')\n",
    "total.append('yes')\n",
    "total #here as visible, append is not possible because we cannot change the internal structure of \n",
    "      #an immutable object. This is beneficial to a certain extent as it uses less disk space and is less processor intensive."
   ]
  },
  {
   "cell_type": "raw",
   "metadata": {},
   "source": [
    "**** Expected Output ****\n",
    "Enter first number3\n",
    "Enter second number4\n",
    "Binary equivalent of number1 0b11\n",
    "Binary equivalent of number2 0b100\n",
    "Addition is = 0b110b100 Substraction is = -0b1"
   ]
  },
  {
   "cell_type": "code",
   "execution_count": 61,
   "metadata": {},
   "outputs": [
    {
     "name": "stdout",
     "output_type": "stream",
     "text": [
      "Enter first number : 3\n",
      "Enter second number : 4\n",
      "Binary equivalent of number 1: 0b11\n",
      "Binary equivalent of number 2: 0b100\n",
      "Addition is =  0b110b100 Substraction is =  -0b1\n"
     ]
    }
   ],
   "source": [
    "a = int(input('Enter first number : '))\n",
    "b = int(input('Enter second number : '))\n",
    "binarya = bin(a)\n",
    "binaryb = bin(b)\n",
    "binadd = bin(a+b)\n",
    "binsub = bin(a-b)\n",
    "print('Binary equivalent of number 1:' , binarya )\n",
    "print('Binary equivalent of number 2:', binaryb)\n",
    "print('Addition is = ', (binarya + binaryb),  'Substraction is = ', binsub)\n"
   ]
  },
  {
   "cell_type": "raw",
   "metadata": {},
   "source": [
    "**** Expected Output ****\n",
    "Enter Full name as first name last namesani sharma\n",
    "Enter Gender (Male/Female)female\n",
    "Dear Ms.Sani, How are you?"
   ]
  },
  {
   "cell_type": "code",
   "execution_count": 63,
   "metadata": {},
   "outputs": [
    {
     "name": "stdout",
     "output_type": "stream",
     "text": [
      "Enter Full name as first name and last name: Sani Sharma\n",
      "Enter Gender (Male/Female)female\n",
      "Dear Mrs Sani ,How are you?\n"
     ]
    }
   ],
   "source": [
    "name = input('Enter Full name as first name and last name: ')\n",
    "gender = input('Enter Gender (Male/Female)')\n",
    "name1  = str(name.split()[0])\n",
    "if (gender == 'Male' or gender =='male'):\n",
    "    sal = 'Mr'\n",
    "else:\n",
    "    sal = 'Mrs'\n",
    "\n",
    "print('Dear', sal , name1,',How are you?')\n",
    "\n",
    "        \n"
   ]
  },
  {
   "cell_type": "code",
   "execution_count": 20,
   "metadata": {},
   "outputs": [
    {
     "data": {
      "text/plain": [
       "{'Eddy': 13, 'Maria': 44, 'Jas': 21, 'alpha': 26}"
      ]
     },
     "execution_count": 20,
     "metadata": {},
     "output_type": "execute_result"
    }
   ],
   "source": [
    "dic = {'Eddy':13,'Maria':44,'Jas':21}\n",
    "dic[\"alpha\"] = 26\n",
    "dic"
   ]
  },
  {
   "cell_type": "code",
   "execution_count": 27,
   "metadata": {},
   "outputs": [
    {
     "name": "stdout",
     "output_type": "stream",
     "text": [
      "Enter a number: 10\n"
     ]
    },
    {
     "data": {
      "text/plain": [
       "{1: 1, 2: 4, 3: 9, 4: 16, 5: 25, 6: 36, 7: 49, 8: 64, 9: 81, 10: 100}"
      ]
     },
     "execution_count": 27,
     "metadata": {},
     "output_type": "execute_result"
    }
   ],
   "source": [
    "n = int(input('Enter a number: '))\n",
    "dict1 = {i : (i**2)  for i in range(1,n+1)}\n",
    "dict1"
   ]
  },
  {
   "cell_type": "code",
   "execution_count": 10,
   "metadata": {},
   "outputs": [
    {
     "name": "stdout",
     "output_type": "stream",
     "text": [
      "Enter a number: 55\n",
      "[1, 5, 11, 55] Recursive Function Output\n",
      "[1, 5, 11, 55] Non-Recursive Function Output\n"
     ]
    }
   ],
   "source": [
    "#The Code Below is RECURSIVE i.e. it calls upon itself to find the factors.\n",
    "list1  = []\n",
    "def factors(n, i):\n",
    "    if i<=n:\n",
    "        if (n%i == 0):\n",
    "            list1.append(i)\n",
    "        i = i+1\n",
    "        factors(n , i) #as noted here, we resend the incremented value of (i) to the function again in order to find all the factors\n",
    "\n",
    "        \n",
    "#The code below is non-recursive. This means that the function does not call upon itself to find the required answer\n",
    "list2 = []\n",
    "def factors2(n):\n",
    "    for i in range(1,n+1): #here we use a simple for loop to complete the requirement and find the factors\n",
    "        if(n% i == 0):\n",
    "            list2.append(i)\n",
    "            \n",
    "\n",
    "s = int(input('Enter a number: '))\n",
    "factors(s , 1)\n",
    "factors2(s)\n",
    "print(list1 , 'Recursive Function Output')\n",
    "print(list2 , 'Non-Recursive Function Output')\n"
   ]
  },
  {
   "cell_type": "raw",
   "metadata": {},
   "source": [
    "**** Expected OUtput ****\n",
    "The maximum of the nested list is 45\n",
    "The average is 23.15"
   ]
  },
  {
   "cell_type": "code",
   "execution_count": 59,
   "metadata": {},
   "outputs": [
    {
     "name": "stdout",
     "output_type": "stream",
     "text": [
      "The maximum of the nested list is  45\n",
      "The average is 23.15\n"
     ]
    }
   ],
   "source": [
    "def avg(lol):\n",
    "    return(round((sum(lol)/len(lol)),2)) #this function returns the average of whatever list is entered intp its parameter\n",
    "\n",
    "list1 = [[20,25,30],[10,15,18],[12,45,20],35,20,23,28]\n",
    "listmax = [] #here we define a list to find the maximum of the nested list\n",
    "listavg = [] #here we define a list to find the average of all values in the nested list\n",
    "for i in list1:\n",
    "    if isinstance(i,type(list1)): #here we check if the iterable is a list\n",
    "        n = max(i)\n",
    "        listmax.append(n) #if it is a list, we append the maximum value of the list into our listmax\n",
    "        for m in i:\n",
    "            listavg.append(m)#we also append all values of the list into listavg in order to calculate total average\n",
    "    else:\n",
    "        listmax.append(i)#all non list objects get appended to both the lists\n",
    "        listavg.append(i)\n",
    "print('The maximum of the nested list is ',max(listmax))\n",
    "print('The average is', avg(listavg))\n",
    "        #we use built in and user defined functions to find the final output\n"
   ]
  },
  {
   "cell_type": "code",
   "execution_count": null,
   "metadata": {},
   "outputs": [],
   "source": []
  }
 ],
 "metadata": {
  "colab": {
   "name": "ITP_MID_EXAM_SET_5_WITH_SOLUTION.ipynb",
   "provenance": []
  },
  "kernelspec": {
   "display_name": "Python 3 (ipykernel)",
   "language": "python",
   "name": "python3"
  },
  "language_info": {
   "codemirror_mode": {
    "name": "ipython",
    "version": 3
   },
   "file_extension": ".py",
   "mimetype": "text/x-python",
   "name": "python",
   "nbconvert_exporter": "python",
   "pygments_lexer": "ipython3",
   "version": "3.9.12"
  }
 },
 "nbformat": 4,
 "nbformat_minor": 1
}
